{
 "cells": [
  {
   "cell_type": "markdown",
   "metadata": {},
   "source": [
    "# Módulo 07, Tarefa 01\n",
    "\n",
    "Vamos começar a mexer na nossa base de projeto? Já fizemos um exercício de montar a variável resposta, já pudemos perceber que essa atividade pode não ser trivial. Vamos agora trabalhar a base para que fique propícia ao *scikitlearn* para trabalharmos.\n",
    "\n",
    "Lembrando, a base se chama demo01.csv, e originalmente está publicada [aqui](https://www.kaggle.com/rikdifos/credit-card-approval-prediction)."
   ]
  },
  {
   "cell_type": "markdown",
   "metadata": {},
   "source": [
    "#### 1) Carregue a base e avalie:\n",
    "\n",
    "- As variáveis\n",
    "- Tipos de dados de cada variável\n",
    "- Quantidade de missings\n",
    "- Distribuição da variável resposta (mau)"
   ]
  },
  {
   "cell_type": "code",
   "execution_count": 239,
   "metadata": {},
   "outputs": [],
   "source": [
    "# importação dos módulos\n",
    "\n",
    "import pandas as pd\n",
    "import matplotlib.pyplot as plt\n",
    "plt.style.use('ggplot')\n",
    "import seaborn as sns\n",
    "import numpy as np"
   ]
  },
  {
   "cell_type": "code",
   "execution_count": 240,
   "metadata": {
    "scrolled": false
   },
   "outputs": [
    {
     "data": {
      "text/html": [
       "<div>\n",
       "<style scoped>\n",
       "    .dataframe tbody tr th:only-of-type {\n",
       "        vertical-align: middle;\n",
       "    }\n",
       "\n",
       "    .dataframe tbody tr th {\n",
       "        vertical-align: top;\n",
       "    }\n",
       "\n",
       "    .dataframe thead th {\n",
       "        text-align: right;\n",
       "    }\n",
       "</style>\n",
       "<table border=\"1\" class=\"dataframe\">\n",
       "  <thead>\n",
       "    <tr style=\"text-align: right;\">\n",
       "      <th></th>\n",
       "      <th>sexo</th>\n",
       "      <th>posse_de_veiculo</th>\n",
       "      <th>posse_de_imovel</th>\n",
       "      <th>qtd_filhos</th>\n",
       "      <th>tipo_renda</th>\n",
       "      <th>educacao</th>\n",
       "      <th>estado_civil</th>\n",
       "      <th>tipo_residencia</th>\n",
       "      <th>idade</th>\n",
       "      <th>tempo_emprego</th>\n",
       "      <th>possui_celular</th>\n",
       "      <th>possui_fone_comercial</th>\n",
       "      <th>possui_fone</th>\n",
       "      <th>possui_email</th>\n",
       "      <th>qt_pessoas_residencia</th>\n",
       "      <th>mau</th>\n",
       "    </tr>\n",
       "  </thead>\n",
       "  <tbody>\n",
       "    <tr>\n",
       "      <th>16645</th>\n",
       "      <td>F</td>\n",
       "      <td>N</td>\n",
       "      <td>Y</td>\n",
       "      <td>0</td>\n",
       "      <td>Working</td>\n",
       "      <td>Secondary / secondary special</td>\n",
       "      <td>Civil marriage</td>\n",
       "      <td>House / apartment</td>\n",
       "      <td>54.109589</td>\n",
       "      <td>9.884932</td>\n",
       "      <td>1</td>\n",
       "      <td>0</td>\n",
       "      <td>0</td>\n",
       "      <td>0</td>\n",
       "      <td>2.0</td>\n",
       "      <td>True</td>\n",
       "    </tr>\n",
       "    <tr>\n",
       "      <th>16646</th>\n",
       "      <td>F</td>\n",
       "      <td>N</td>\n",
       "      <td>Y</td>\n",
       "      <td>0</td>\n",
       "      <td>Commercial associate</td>\n",
       "      <td>Secondary / secondary special</td>\n",
       "      <td>Married</td>\n",
       "      <td>House / apartment</td>\n",
       "      <td>43.389041</td>\n",
       "      <td>7.380822</td>\n",
       "      <td>1</td>\n",
       "      <td>1</td>\n",
       "      <td>1</td>\n",
       "      <td>0</td>\n",
       "      <td>2.0</td>\n",
       "      <td>True</td>\n",
       "    </tr>\n",
       "    <tr>\n",
       "      <th>16647</th>\n",
       "      <td>M</td>\n",
       "      <td>Y</td>\n",
       "      <td>Y</td>\n",
       "      <td>0</td>\n",
       "      <td>Working</td>\n",
       "      <td>Secondary / secondary special</td>\n",
       "      <td>Married</td>\n",
       "      <td>House / apartment</td>\n",
       "      <td>30.005479</td>\n",
       "      <td>9.800000</td>\n",
       "      <td>1</td>\n",
       "      <td>1</td>\n",
       "      <td>0</td>\n",
       "      <td>0</td>\n",
       "      <td>2.0</td>\n",
       "      <td>True</td>\n",
       "    </tr>\n",
       "    <tr>\n",
       "      <th>16648</th>\n",
       "      <td>M</td>\n",
       "      <td>Y</td>\n",
       "      <td>Y</td>\n",
       "      <td>0</td>\n",
       "      <td>Working</td>\n",
       "      <td>Secondary / secondary special</td>\n",
       "      <td>Married</td>\n",
       "      <td>House / apartment</td>\n",
       "      <td>30.005479</td>\n",
       "      <td>9.800000</td>\n",
       "      <td>1</td>\n",
       "      <td>1</td>\n",
       "      <td>0</td>\n",
       "      <td>0</td>\n",
       "      <td>2.0</td>\n",
       "      <td>True</td>\n",
       "    </tr>\n",
       "    <tr>\n",
       "      <th>16649</th>\n",
       "      <td>F</td>\n",
       "      <td>N</td>\n",
       "      <td>Y</td>\n",
       "      <td>0</td>\n",
       "      <td>Pensioner</td>\n",
       "      <td>Higher education</td>\n",
       "      <td>Married</td>\n",
       "      <td>House / apartment</td>\n",
       "      <td>33.936986</td>\n",
       "      <td>3.630137</td>\n",
       "      <td>1</td>\n",
       "      <td>0</td>\n",
       "      <td>1</td>\n",
       "      <td>1</td>\n",
       "      <td>2.0</td>\n",
       "      <td>True</td>\n",
       "    </tr>\n",
       "  </tbody>\n",
       "</table>\n",
       "</div>"
      ],
      "text/plain": [
       "      sexo posse_de_veiculo posse_de_imovel  qtd_filhos            tipo_renda  \\\n",
       "16645    F                N               Y           0               Working   \n",
       "16646    F                N               Y           0  Commercial associate   \n",
       "16647    M                Y               Y           0               Working   \n",
       "16648    M                Y               Y           0               Working   \n",
       "16649    F                N               Y           0             Pensioner   \n",
       "\n",
       "                            educacao    estado_civil    tipo_residencia  \\\n",
       "16645  Secondary / secondary special  Civil marriage  House / apartment   \n",
       "16646  Secondary / secondary special         Married  House / apartment   \n",
       "16647  Secondary / secondary special         Married  House / apartment   \n",
       "16648  Secondary / secondary special         Married  House / apartment   \n",
       "16649               Higher education         Married  House / apartment   \n",
       "\n",
       "           idade  tempo_emprego  possui_celular  possui_fone_comercial  \\\n",
       "16645  54.109589       9.884932               1                      0   \n",
       "16646  43.389041       7.380822               1                      1   \n",
       "16647  30.005479       9.800000               1                      1   \n",
       "16648  30.005479       9.800000               1                      1   \n",
       "16649  33.936986       3.630137               1                      0   \n",
       "\n",
       "       possui_fone  possui_email  qt_pessoas_residencia   mau  \n",
       "16645            0             0                    2.0  True  \n",
       "16646            1             0                    2.0  True  \n",
       "16647            0             0                    2.0  True  \n",
       "16648            0             0                    2.0  True  \n",
       "16649            1             1                    2.0  True  "
      ]
     },
     "execution_count": 240,
     "metadata": {},
     "output_type": "execute_result"
    }
   ],
   "source": [
    "# abrindo o arquivo e transformando-o em DF\n",
    "\n",
    "arquivo = pd.read_csv('demo01.csv')\n",
    "\n",
    "df = pd.DataFrame(arquivo)\n",
    "\n",
    "df.tail()"
   ]
  },
  {
   "cell_type": "markdown",
   "metadata": {},
   "source": [
    "* As colunas estão ordenadas perfeitamente, não havendo necessidade de reindexar o índice."
   ]
  },
  {
   "cell_type": "code",
   "execution_count": 241,
   "metadata": {},
   "outputs": [
    {
     "data": {
      "text/plain": [
       "Index(['sexo', 'posse_de_veiculo', 'posse_de_imovel', 'qtd_filhos',\n",
       "       'tipo_renda', 'educacao', 'estado_civil', 'tipo_residencia', 'idade',\n",
       "       'tempo_emprego', 'possui_celular', 'possui_fone_comercial',\n",
       "       'possui_fone', 'possui_email', 'qt_pessoas_residencia', 'mau'],\n",
       "      dtype='object')"
      ]
     },
     "execution_count": 241,
     "metadata": {},
     "output_type": "execute_result"
    }
   ],
   "source": [
    "# variáveis (colunas)\n",
    "\n",
    "df.columns"
   ]
  },
  {
   "cell_type": "code",
   "execution_count": 242,
   "metadata": {
    "scrolled": false
   },
   "outputs": [
    {
     "name": "stdout",
     "output_type": "stream",
     "text": [
      "<class 'pandas.core.frame.DataFrame'>\n",
      "RangeIndex: 16650 entries, 0 to 16649\n",
      "Data columns (total 16 columns):\n",
      " #   Column                 Non-Null Count  Dtype  \n",
      "---  ------                 --------------  -----  \n",
      " 0   sexo                   16650 non-null  object \n",
      " 1   posse_de_veiculo       16650 non-null  object \n",
      " 2   posse_de_imovel        16650 non-null  object \n",
      " 3   qtd_filhos             16650 non-null  int64  \n",
      " 4   tipo_renda             16650 non-null  object \n",
      " 5   educacao               16650 non-null  object \n",
      " 6   estado_civil           16650 non-null  object \n",
      " 7   tipo_residencia        16650 non-null  object \n",
      " 8   idade                  16650 non-null  float64\n",
      " 9   tempo_emprego          16650 non-null  float64\n",
      " 10  possui_celular         16650 non-null  int64  \n",
      " 11  possui_fone_comercial  16650 non-null  int64  \n",
      " 12  possui_fone            16650 non-null  int64  \n",
      " 13  possui_email           16650 non-null  int64  \n",
      " 14  qt_pessoas_residencia  16650 non-null  float64\n",
      " 15  mau                    16650 non-null  bool   \n",
      "dtypes: bool(1), float64(3), int64(5), object(7)\n",
      "memory usage: 1.9+ MB\n"
     ]
    }
   ],
   "source": [
    "# informação sobre os dados faltantes\n",
    "\n",
    "df.info()"
   ]
  },
  {
   "cell_type": "code",
   "execution_count": 243,
   "metadata": {},
   "outputs": [
    {
     "data": {
      "text/plain": [
       "(16650, 16)"
      ]
     },
     "execution_count": 243,
     "metadata": {},
     "output_type": "execute_result"
    }
   ],
   "source": [
    "# tamanho\n",
    "\n",
    "df.shape"
   ]
  },
  {
   "cell_type": "markdown",
   "metadata": {},
   "source": [
    "* Nota-se que não há dados faltantes. Todos possuem 1650 informações, ou 1649, já que a primeira é a linha das colunas."
   ]
  },
  {
   "cell_type": "code",
   "execution_count": 244,
   "metadata": {},
   "outputs": [
    {
     "data": {
      "text/plain": [
       "False"
      ]
     },
     "execution_count": 244,
     "metadata": {},
     "output_type": "execute_result"
    }
   ],
   "source": [
    "# eliminando os duplicados, caso haja\n",
    "\n",
    "df = df.drop_duplicates()\n",
    "\n",
    "# verificando se ficou algum duplicado\n",
    "\n",
    "df.duplicated().any()"
   ]
  },
  {
   "cell_type": "code",
   "execution_count": 245,
   "metadata": {},
   "outputs": [
    {
     "data": {
      "text/plain": [
       "(6770, 16)"
      ]
     },
     "execution_count": 245,
     "metadata": {},
     "output_type": "execute_result"
    }
   ],
   "source": [
    "# reindexando e verificando quantas linhas sobraram\n",
    "\n",
    "df.reindex()\n",
    "\n",
    "df.shape"
   ]
  },
  {
   "cell_type": "code",
   "execution_count": 246,
   "metadata": {},
   "outputs": [
    {
     "data": {
      "text/plain": [
       "False    6472\n",
       "True      298\n",
       "Name: mau, dtype: int64"
      ]
     },
     "execution_count": 246,
     "metadata": {},
     "output_type": "execute_result"
    }
   ],
   "source": [
    "# verificando a distribuição da variável 'mau'\n",
    "\n",
    "mau = df['mau'].value_counts()\n",
    "mau"
   ]
  },
  {
   "cell_type": "code",
   "execution_count": 247,
   "metadata": {},
   "outputs": [
    {
     "data": {
      "text/plain": [
       "298"
      ]
     },
     "execution_count": 247,
     "metadata": {},
     "output_type": "execute_result"
    }
   ],
   "source": [
    "# com o sum() se verifica quantos são os retornos do True\n",
    "\n",
    "df['mau'].sum()"
   ]
  },
  {
   "cell_type": "code",
   "execution_count": 248,
   "metadata": {},
   "outputs": [
    {
     "data": {
      "image/png": "[encoded data removed]",
      "text/plain": [
       "<Figure size 200x300 with 1 Axes>"
      ]
     },
     "metadata": {},
     "output_type": "display_data"
    }
   ],
   "source": [
    "# plotando gráfico de barras com a distribução do 'mau'\n",
    "\n",
    "plt.figure(figsize=(2,3))\n",
    "plt.bar(['True', 'False'], df['mau'].value_counts(), color=['red', 'green'])\n",
    "\n",
    "# adicionar rótulos aos eixos\n",
    "plt.xlabel('Variável \"mau\"')\n",
    "plt.ylabel('Quantidade de Dados')\n",
    "\n",
    "# título\n",
    "plt.title('Distribuição da Variável \"mau\"')\n",
    "\n",
    "plt.show()\n"
   ]
  },
  {
   "cell_type": "markdown",
   "metadata": {},
   "source": [
    "#### 2) Vamos montar um metadados\n",
    "\n",
    "1. Crie um dataframe com os nomes de cada variável e o tipo de dados de cada variável.\n",
    "2. Adicione uma coluna nesse *dataframe* chamada \"qtd_categorias\" e coloque nela o número de categorias correspondente de cada variável. \n",
    "    Dica: \n",
    "        1. inicie uma lista vazia\n",
    "        2. faça um for ao longo dos nomes das variáveis, \n",
    "        3. conte o número de categorias dessa variável \n",
    "        4. acumule essa informação de 3. na lista que você criou em 1. \n",
    "        5. No final, essa lista pode ser atribuída à nossa variável.\n",
    "3. Crie variáveis dummy para as variáveis necessárias (i.e. aquelas que são qualitativas e não estão armazenadas como {0, 1} ou {True, False}."
   ]
  },
  {
   "cell_type": "code",
   "execution_count": 249,
   "metadata": {
    "scrolled": false
   },
   "outputs": [
    {
     "data": {
      "text/html": [
       "<div>\n",
       "<style scoped>\n",
       "    .dataframe tbody tr th:only-of-type {\n",
       "        vertical-align: middle;\n",
       "    }\n",
       "\n",
       "    .dataframe tbody tr th {\n",
       "        vertical-align: top;\n",
       "    }\n",
       "\n",
       "    .dataframe thead th {\n",
       "        text-align: right;\n",
       "    }\n",
       "</style>\n",
       "<table border=\"1\" class=\"dataframe\">\n",
       "  <thead>\n",
       "    <tr style=\"text-align: right;\">\n",
       "      <th></th>\n",
       "      <th>nome_variavel</th>\n",
       "      <th>tipo_dado</th>\n",
       "      <th>qtd_categorias</th>\n",
       "    </tr>\n",
       "  </thead>\n",
       "  <tbody>\n",
       "    <tr>\n",
       "      <th>0</th>\n",
       "      <td>sexo</td>\n",
       "      <td>object</td>\n",
       "      <td>2</td>\n",
       "    </tr>\n",
       "    <tr>\n",
       "      <th>1</th>\n",
       "      <td>posse_de_veiculo</td>\n",
       "      <td>object</td>\n",
       "      <td>2</td>\n",
       "    </tr>\n",
       "    <tr>\n",
       "      <th>2</th>\n",
       "      <td>posse_de_imovel</td>\n",
       "      <td>object</td>\n",
       "      <td>2</td>\n",
       "    </tr>\n",
       "    <tr>\n",
       "      <th>3</th>\n",
       "      <td>qtd_filhos</td>\n",
       "      <td>int64</td>\n",
       "      <td>8</td>\n",
       "    </tr>\n",
       "    <tr>\n",
       "      <th>4</th>\n",
       "      <td>tipo_renda</td>\n",
       "      <td>object</td>\n",
       "      <td>5</td>\n",
       "    </tr>\n",
       "    <tr>\n",
       "      <th>5</th>\n",
       "      <td>educacao</td>\n",
       "      <td>object</td>\n",
       "      <td>5</td>\n",
       "    </tr>\n",
       "    <tr>\n",
       "      <th>6</th>\n",
       "      <td>estado_civil</td>\n",
       "      <td>object</td>\n",
       "      <td>5</td>\n",
       "    </tr>\n",
       "    <tr>\n",
       "      <th>7</th>\n",
       "      <td>tipo_residencia</td>\n",
       "      <td>object</td>\n",
       "      <td>6</td>\n",
       "    </tr>\n",
       "    <tr>\n",
       "      <th>8</th>\n",
       "      <td>idade</td>\n",
       "      <td>float64</td>\n",
       "      <td>5298</td>\n",
       "    </tr>\n",
       "    <tr>\n",
       "      <th>9</th>\n",
       "      <td>tempo_emprego</td>\n",
       "      <td>float64</td>\n",
       "      <td>3005</td>\n",
       "    </tr>\n",
       "    <tr>\n",
       "      <th>10</th>\n",
       "      <td>possui_celular</td>\n",
       "      <td>int64</td>\n",
       "      <td>1</td>\n",
       "    </tr>\n",
       "    <tr>\n",
       "      <th>11</th>\n",
       "      <td>possui_fone_comercial</td>\n",
       "      <td>int64</td>\n",
       "      <td>2</td>\n",
       "    </tr>\n",
       "    <tr>\n",
       "      <th>12</th>\n",
       "      <td>possui_fone</td>\n",
       "      <td>int64</td>\n",
       "      <td>2</td>\n",
       "    </tr>\n",
       "    <tr>\n",
       "      <th>13</th>\n",
       "      <td>possui_email</td>\n",
       "      <td>int64</td>\n",
       "      <td>2</td>\n",
       "    </tr>\n",
       "    <tr>\n",
       "      <th>14</th>\n",
       "      <td>qt_pessoas_residencia</td>\n",
       "      <td>float64</td>\n",
       "      <td>9</td>\n",
       "    </tr>\n",
       "    <tr>\n",
       "      <th>15</th>\n",
       "      <td>mau</td>\n",
       "      <td>bool</td>\n",
       "      <td>2</td>\n",
       "    </tr>\n",
       "  </tbody>\n",
       "</table>\n",
       "</div>"
      ],
      "text/plain": [
       "            nome_variavel tipo_dado  qtd_categorias\n",
       "0                    sexo    object               2\n",
       "1        posse_de_veiculo    object               2\n",
       "2         posse_de_imovel    object               2\n",
       "3              qtd_filhos     int64               8\n",
       "4              tipo_renda    object               5\n",
       "5                educacao    object               5\n",
       "6            estado_civil    object               5\n",
       "7         tipo_residencia    object               6\n",
       "8                   idade   float64            5298\n",
       "9           tempo_emprego   float64            3005\n",
       "10         possui_celular     int64               1\n",
       "11  possui_fone_comercial     int64               2\n",
       "12            possui_fone     int64               2\n",
       "13           possui_email     int64               2\n",
       "14  qt_pessoas_residencia   float64               9\n",
       "15                    mau      bool               2"
      ]
     },
     "execution_count": 249,
     "metadata": {},
     "output_type": "execute_result"
    }
   ],
   "source": [
    "# lista vazia\n",
    "df_var = {'nome_variavel': [], 'tipo_dado': [], 'qtd_categorias': []}\n",
    "\n",
    "# for in ao longo dos nomes\n",
    "\n",
    "for coluna in df.columns:\n",
    "    df_var['nome_variavel'].append(coluna) \n",
    "    df_var['tipo_dado'].append(df[coluna].dtype)\n",
    "    if df[coluna].dtype == 'object':\n",
    "        df_var['qtd_categorias'].append(len(df[coluna].unique()))\n",
    "    else:\n",
    "        df_var['qtd_categorias'].append(len(df[coluna].unique()))\n",
    "\n",
    "\n",
    "# aplicação\n",
    "df_var = pd.DataFrame(df_var)\n",
    "\n",
    "df_var\n"
   ]
  },
  {
   "cell_type": "markdown",
   "metadata": {},
   "source": [
    "* Há 7 variáveis com somente 2 categorias:\n",
    "    - sexo, no arquivo, só há dois (M, F). Podemos ajustar para 0 = M e 1 = F;\n",
    "    - posse_veiculo só há duas categorias, que iremos transformar em Y = 1 e N = 0;\n",
    "    - posse_imovel, possui_fone_comercial, possui_fone e possui_email seguem a lógica anterior;\n",
    "    - note que todos os cadastros informam possuir celular, o que resume em 1 só categoria. Mesmo assim, deixaremos como 1."
   ]
  },
  {
   "cell_type": "code",
   "execution_count": 250,
   "metadata": {},
   "outputs": [
    {
     "data": {
      "text/plain": [
       "1    6770\n",
       "Name: possui_celular, dtype: int64"
      ]
     },
     "execution_count": 250,
     "metadata": {},
     "output_type": "execute_result"
    }
   ],
   "source": [
    "df.head(2)\n",
    "df['possui_celular'].value_counts()"
   ]
  },
  {
   "cell_type": "markdown",
   "metadata": {},
   "source": [
    "#### 3) Crie variáveis dummy para as variáveis necessárias (i.e. aquelas que são qualitativas e não estão armazenadas como {0, 1} ou {True, False}. Crie um *dataframe* apenas com as variáveis apropriadas para entrada no scikitlearn - elimine as variáveis tipo *str*, mantendo apenas suas versões *dummy*."
   ]
  },
  {
   "cell_type": "code",
   "execution_count": 251,
   "metadata": {
    "scrolled": false
   },
   "outputs": [
    {
     "data": {
      "text/html": [
       "<div>\n",
       "<style scoped>\n",
       "    .dataframe tbody tr th:only-of-type {\n",
       "        vertical-align: middle;\n",
       "    }\n",
       "\n",
       "    .dataframe tbody tr th {\n",
       "        vertical-align: top;\n",
       "    }\n",
       "\n",
       "    .dataframe thead th {\n",
       "        text-align: right;\n",
       "    }\n",
       "</style>\n",
       "<table border=\"1\" class=\"dataframe\">\n",
       "  <thead>\n",
       "    <tr style=\"text-align: right;\">\n",
       "      <th></th>\n",
       "      <th>qtd_filhos</th>\n",
       "      <th>tipo_renda</th>\n",
       "      <th>educacao</th>\n",
       "      <th>estado_civil</th>\n",
       "      <th>tipo_residencia</th>\n",
       "      <th>idade</th>\n",
       "      <th>tempo_emprego</th>\n",
       "      <th>qt_pessoas_residencia</th>\n",
       "      <th>sexo_F</th>\n",
       "      <th>sexo_M</th>\n",
       "      <th>...</th>\n",
       "      <th>posse_de_imovel_Y</th>\n",
       "      <th>possui_fone_comercial_0</th>\n",
       "      <th>possui_fone_comercial_1</th>\n",
       "      <th>possui_fone_0</th>\n",
       "      <th>possui_fone_1</th>\n",
       "      <th>possui_email_0</th>\n",
       "      <th>possui_email_1</th>\n",
       "      <th>mau_False</th>\n",
       "      <th>mau_True</th>\n",
       "      <th>possui_celular_1</th>\n",
       "    </tr>\n",
       "  </thead>\n",
       "  <tbody>\n",
       "    <tr>\n",
       "      <th>0</th>\n",
       "      <td>0</td>\n",
       "      <td>Working</td>\n",
       "      <td>Secondary / secondary special</td>\n",
       "      <td>Married</td>\n",
       "      <td>House / apartment</td>\n",
       "      <td>58.832877</td>\n",
       "      <td>3.106849</td>\n",
       "      <td>2.0</td>\n",
       "      <td>0</td>\n",
       "      <td>1</td>\n",
       "      <td>...</td>\n",
       "      <td>1</td>\n",
       "      <td>1</td>\n",
       "      <td>0</td>\n",
       "      <td>1</td>\n",
       "      <td>0</td>\n",
       "      <td>1</td>\n",
       "      <td>0</td>\n",
       "      <td>1</td>\n",
       "      <td>0</td>\n",
       "      <td>1</td>\n",
       "    </tr>\n",
       "    <tr>\n",
       "      <th>1</th>\n",
       "      <td>0</td>\n",
       "      <td>Commercial associate</td>\n",
       "      <td>Secondary / secondary special</td>\n",
       "      <td>Single / not married</td>\n",
       "      <td>House / apartment</td>\n",
       "      <td>52.356164</td>\n",
       "      <td>8.358904</td>\n",
       "      <td>1.0</td>\n",
       "      <td>1</td>\n",
       "      <td>0</td>\n",
       "      <td>...</td>\n",
       "      <td>1</td>\n",
       "      <td>1</td>\n",
       "      <td>0</td>\n",
       "      <td>0</td>\n",
       "      <td>1</td>\n",
       "      <td>0</td>\n",
       "      <td>1</td>\n",
       "      <td>1</td>\n",
       "      <td>0</td>\n",
       "      <td>1</td>\n",
       "    </tr>\n",
       "    <tr>\n",
       "      <th>3</th>\n",
       "      <td>0</td>\n",
       "      <td>Working</td>\n",
       "      <td>Higher education</td>\n",
       "      <td>Married</td>\n",
       "      <td>House / apartment</td>\n",
       "      <td>46.224658</td>\n",
       "      <td>2.106849</td>\n",
       "      <td>2.0</td>\n",
       "      <td>0</td>\n",
       "      <td>1</td>\n",
       "      <td>...</td>\n",
       "      <td>1</td>\n",
       "      <td>0</td>\n",
       "      <td>1</td>\n",
       "      <td>0</td>\n",
       "      <td>1</td>\n",
       "      <td>0</td>\n",
       "      <td>1</td>\n",
       "      <td>1</td>\n",
       "      <td>0</td>\n",
       "      <td>1</td>\n",
       "    </tr>\n",
       "    <tr>\n",
       "      <th>4</th>\n",
       "      <td>0</td>\n",
       "      <td>Working</td>\n",
       "      <td>Incomplete higher</td>\n",
       "      <td>Married</td>\n",
       "      <td>House / apartment</td>\n",
       "      <td>29.230137</td>\n",
       "      <td>3.021918</td>\n",
       "      <td>2.0</td>\n",
       "      <td>1</td>\n",
       "      <td>0</td>\n",
       "      <td>...</td>\n",
       "      <td>0</td>\n",
       "      <td>1</td>\n",
       "      <td>0</td>\n",
       "      <td>1</td>\n",
       "      <td>0</td>\n",
       "      <td>1</td>\n",
       "      <td>0</td>\n",
       "      <td>1</td>\n",
       "      <td>0</td>\n",
       "      <td>1</td>\n",
       "    </tr>\n",
       "    <tr>\n",
       "      <th>6</th>\n",
       "      <td>0</td>\n",
       "      <td>Working</td>\n",
       "      <td>Secondary / secondary special</td>\n",
       "      <td>Married</td>\n",
       "      <td>House / apartment</td>\n",
       "      <td>27.482192</td>\n",
       "      <td>4.024658</td>\n",
       "      <td>2.0</td>\n",
       "      <td>1</td>\n",
       "      <td>0</td>\n",
       "      <td>...</td>\n",
       "      <td>1</td>\n",
       "      <td>1</td>\n",
       "      <td>0</td>\n",
       "      <td>0</td>\n",
       "      <td>1</td>\n",
       "      <td>1</td>\n",
       "      <td>0</td>\n",
       "      <td>1</td>\n",
       "      <td>0</td>\n",
       "      <td>1</td>\n",
       "    </tr>\n",
       "  </tbody>\n",
       "</table>\n",
       "<p>5 rows × 23 columns</p>\n",
       "</div>"
      ],
      "text/plain": [
       "   qtd_filhos            tipo_renda                       educacao  \\\n",
       "0           0               Working  Secondary / secondary special   \n",
       "1           0  Commercial associate  Secondary / secondary special   \n",
       "3           0               Working               Higher education   \n",
       "4           0               Working              Incomplete higher   \n",
       "6           0               Working  Secondary / secondary special   \n",
       "\n",
       "           estado_civil    tipo_residencia      idade  tempo_emprego  \\\n",
       "0               Married  House / apartment  58.832877       3.106849   \n",
       "1  Single / not married  House / apartment  52.356164       8.358904   \n",
       "3               Married  House / apartment  46.224658       2.106849   \n",
       "4               Married  House / apartment  29.230137       3.021918   \n",
       "6               Married  House / apartment  27.482192       4.024658   \n",
       "\n",
       "   qt_pessoas_residencia  sexo_F  sexo_M  ...  posse_de_imovel_Y  \\\n",
       "0                    2.0       0       1  ...                  1   \n",
       "1                    1.0       1       0  ...                  1   \n",
       "3                    2.0       0       1  ...                  1   \n",
       "4                    2.0       1       0  ...                  0   \n",
       "6                    2.0       1       0  ...                  1   \n",
       "\n",
       "   possui_fone_comercial_0  possui_fone_comercial_1  possui_fone_0  \\\n",
       "0                        1                        0              1   \n",
       "1                        1                        0              0   \n",
       "3                        0                        1              0   \n",
       "4                        1                        0              1   \n",
       "6                        1                        0              0   \n",
       "\n",
       "   possui_fone_1  possui_email_0  possui_email_1  mau_False  mau_True  \\\n",
       "0              0               1               0          1         0   \n",
       "1              1               0               1          1         0   \n",
       "3              1               0               1          1         0   \n",
       "4              0               1               0          1         0   \n",
       "6              1               1               0          1         0   \n",
       "\n",
       "   possui_celular_1  \n",
       "0                 1  \n",
       "1                 1  \n",
       "3                 1  \n",
       "4                 1  \n",
       "6                 1  \n",
       "\n",
       "[5 rows x 23 columns]"
      ]
     },
     "execution_count": 251,
     "metadata": {},
     "output_type": "execute_result"
    }
   ],
   "source": [
    "# variáveis dummy para as variáveis qualitativas\n",
    "\n",
    "df_dummy = pd.get_dummies(df, columns=['sexo', \n",
    "                                       'posse_de_veiculo', \n",
    "                                       'posse_de_imovel', \n",
    "                                       'possui_fone_comercial', \n",
    "                                       'possui_fone', \n",
    "                                       'possui_email','mau', 'possui_celular'])\n",
    "#exibindo\n",
    "df_dummy.head()"
   ]
  },
  {
   "cell_type": "code",
   "execution_count": 252,
   "metadata": {},
   "outputs": [
    {
     "data": {
      "text/html": [
       "<div>\n",
       "<style scoped>\n",
       "    .dataframe tbody tr th:only-of-type {\n",
       "        vertical-align: middle;\n",
       "    }\n",
       "\n",
       "    .dataframe tbody tr th {\n",
       "        vertical-align: top;\n",
       "    }\n",
       "\n",
       "    .dataframe thead th {\n",
       "        text-align: right;\n",
       "    }\n",
       "</style>\n",
       "<table border=\"1\" class=\"dataframe\">\n",
       "  <thead>\n",
       "    <tr style=\"text-align: right;\">\n",
       "      <th></th>\n",
       "      <th>sexo_F</th>\n",
       "      <th>sexo_M</th>\n",
       "      <th>posse_de_veiculo_N</th>\n",
       "      <th>posse_de_veiculo_Y</th>\n",
       "      <th>posse_de_imovel_N</th>\n",
       "      <th>posse_de_imovel_Y</th>\n",
       "      <th>possui_fone_comercial_0</th>\n",
       "      <th>possui_fone_comercial_1</th>\n",
       "      <th>possui_fone_0</th>\n",
       "      <th>possui_fone_1</th>\n",
       "      <th>possui_email_0</th>\n",
       "      <th>possui_email_1</th>\n",
       "      <th>mau_False</th>\n",
       "      <th>mau_True</th>\n",
       "      <th>possui_celular_1</th>\n",
       "    </tr>\n",
       "  </thead>\n",
       "  <tbody>\n",
       "    <tr>\n",
       "      <th>0</th>\n",
       "      <td>0</td>\n",
       "      <td>1</td>\n",
       "      <td>0</td>\n",
       "      <td>1</td>\n",
       "      <td>0</td>\n",
       "      <td>1</td>\n",
       "      <td>1</td>\n",
       "      <td>0</td>\n",
       "      <td>1</td>\n",
       "      <td>0</td>\n",
       "      <td>1</td>\n",
       "      <td>0</td>\n",
       "      <td>1</td>\n",
       "      <td>0</td>\n",
       "      <td>1</td>\n",
       "    </tr>\n",
       "    <tr>\n",
       "      <th>1</th>\n",
       "      <td>1</td>\n",
       "      <td>0</td>\n",
       "      <td>1</td>\n",
       "      <td>0</td>\n",
       "      <td>0</td>\n",
       "      <td>1</td>\n",
       "      <td>1</td>\n",
       "      <td>0</td>\n",
       "      <td>0</td>\n",
       "      <td>1</td>\n",
       "      <td>0</td>\n",
       "      <td>1</td>\n",
       "      <td>1</td>\n",
       "      <td>0</td>\n",
       "      <td>1</td>\n",
       "    </tr>\n",
       "    <tr>\n",
       "      <th>3</th>\n",
       "      <td>0</td>\n",
       "      <td>1</td>\n",
       "      <td>0</td>\n",
       "      <td>1</td>\n",
       "      <td>0</td>\n",
       "      <td>1</td>\n",
       "      <td>0</td>\n",
       "      <td>1</td>\n",
       "      <td>0</td>\n",
       "      <td>1</td>\n",
       "      <td>0</td>\n",
       "      <td>1</td>\n",
       "      <td>1</td>\n",
       "      <td>0</td>\n",
       "      <td>1</td>\n",
       "    </tr>\n",
       "    <tr>\n",
       "      <th>4</th>\n",
       "      <td>1</td>\n",
       "      <td>0</td>\n",
       "      <td>0</td>\n",
       "      <td>1</td>\n",
       "      <td>1</td>\n",
       "      <td>0</td>\n",
       "      <td>1</td>\n",
       "      <td>0</td>\n",
       "      <td>1</td>\n",
       "      <td>0</td>\n",
       "      <td>1</td>\n",
       "      <td>0</td>\n",
       "      <td>1</td>\n",
       "      <td>0</td>\n",
       "      <td>1</td>\n",
       "    </tr>\n",
       "    <tr>\n",
       "      <th>6</th>\n",
       "      <td>1</td>\n",
       "      <td>0</td>\n",
       "      <td>1</td>\n",
       "      <td>0</td>\n",
       "      <td>0</td>\n",
       "      <td>1</td>\n",
       "      <td>1</td>\n",
       "      <td>0</td>\n",
       "      <td>0</td>\n",
       "      <td>1</td>\n",
       "      <td>1</td>\n",
       "      <td>0</td>\n",
       "      <td>1</td>\n",
       "      <td>0</td>\n",
       "      <td>1</td>\n",
       "    </tr>\n",
       "  </tbody>\n",
       "</table>\n",
       "</div>"
      ],
      "text/plain": [
       "   sexo_F  sexo_M  posse_de_veiculo_N  posse_de_veiculo_Y  posse_de_imovel_N  \\\n",
       "0       0       1                   0                   1                  0   \n",
       "1       1       0                   1                   0                  0   \n",
       "3       0       1                   0                   1                  0   \n",
       "4       1       0                   0                   1                  1   \n",
       "6       1       0                   1                   0                  0   \n",
       "\n",
       "   posse_de_imovel_Y  possui_fone_comercial_0  possui_fone_comercial_1  \\\n",
       "0                  1                        1                        0   \n",
       "1                  1                        1                        0   \n",
       "3                  1                        0                        1   \n",
       "4                  0                        1                        0   \n",
       "6                  1                        1                        0   \n",
       "\n",
       "   possui_fone_0  possui_fone_1  possui_email_0  possui_email_1  mau_False  \\\n",
       "0              1              0               1               0          1   \n",
       "1              0              1               0               1          1   \n",
       "3              0              1               0               1          1   \n",
       "4              1              0               1               0          1   \n",
       "6              0              1               1               0          1   \n",
       "\n",
       "   mau_True  possui_celular_1  \n",
       "0         0                 1  \n",
       "1         0                 1  \n",
       "3         0                 1  \n",
       "4         0                 1  \n",
       "6         0                 1  "
      ]
     },
     "execution_count": 252,
     "metadata": {},
     "output_type": "execute_result"
    }
   ],
   "source": [
    "# excluindo as colunas desnecessárias\n",
    "\n",
    "excluir = ['qtd_filhos', 'tipo_renda', 'educacao', 'estado_civil', \n",
    "           'tipo_residencia', 'idade', 'tempo_emprego', 'qt_pessoas_residencia']\n",
    "\n",
    "df_dummy = df_dummy.drop(columns = excluir)\n",
    "\n",
    "# exibindo o novo DF\n",
    "\n",
    "df_dummy.head()"
   ]
  },
  {
   "cell_type": "markdown",
   "metadata": {},
   "source": [
    "#### 4) Qual variável é mais poderosa?\n",
    "\n",
    "Considere as variáveis ```possui_email``` e ```posse_de_veiculo```. Faça uma tabela cruzada entre elas e responda qual delas te parece mais poderosa para prever a probabilidade de ```mau = 1```?"
   ]
  },
  {
   "cell_type": "code",
   "execution_count": 253,
   "metadata": {
    "scrolled": false
   },
   "outputs": [
    {
     "data": {
      "text/plain": [
       "0    6205\n",
       "1     565\n",
       "Name: possui_email, dtype: int64"
      ]
     },
     "execution_count": 253,
     "metadata": {},
     "output_type": "execute_result"
    }
   ],
   "source": [
    "df['possui_email'].value_counts()\n"
   ]
  },
  {
   "cell_type": "code",
   "execution_count": 254,
   "metadata": {
    "scrolled": false
   },
   "outputs": [
    {
     "name": "stdout",
     "output_type": "stream",
     "text": [
      "Tabela Cruzada:\n",
      "                   Não possui veículo (mau=1)  Possui veículo (mau=1)  Total\n",
      "Não possui e-mail                         182                      96    278\n",
      "Possui e-mail                               8                      12     20\n",
      "Total                                     190                     108    298\n",
      "\n",
      "\n"
     ]
    },
    {
     "data": {
      "text/plain": [
       "<Figure size 1000x600 with 0 Axes>"
      ]
     },
     "metadata": {},
     "output_type": "display_data"
    },
    {
     "data": {
      "image/png": "[encoded data removed]",
      "text/plain": [
       "<Figure size 640x480 with 1 Axes>"
      ]
     },
     "metadata": {},
     "output_type": "display_data"
    }
   ],
   "source": [
    "# Criando a tabela cruzada com a contagem de 'mau' igual a 1 para cada combinação das variáveis possui_email e posse_de_veiculo\n",
    "tabela_cruzada_mau = pd.crosstab(index=df['possui_email'], columns=df['posse_de_veiculo'],\n",
    "                                 values=(df['mau'] == True), aggfunc='sum', margins=True, margins_name='Total')\n",
    "\n",
    "# Renomeando as colunas\n",
    "tabela_cruzada_mau.columns = ['Não possui veículo (mau=1)', 'Possui veículo (mau=1)', 'Total']\n",
    "\n",
    "# Renomeando o index\n",
    "tabela_cruzada_mau.index = ['Não possui e-mail', 'Possui e-mail', 'Total']\n",
    "\n",
    "# Exibindo a tabela cruzada\n",
    "print(\"Tabela Cruzada:\")\n",
    "print(tabela_cruzada_mau)\n",
    "print(\"\\n\")\n",
    "\n",
    "# Plotando um gráfico de barras para melhor compreensão\n",
    "plt.figure(figsize=(10, 6))\n",
    "tabela_cruzada_mau.drop('Total', axis=0).drop('Total', axis=1).plot(kind='bar', stacked=False, color=['green', 'red'])\n",
    "plt.title('Probabilidade de mau = 1 por posse de veículo e email')\n",
    "plt.xlabel('Possui Email')\n",
    "plt.ylabel('Quantidade de casos com mau = 1')\n",
    "plt.xticks(rotation=0)\n",
    "plt.legend(title='Posse de Veículo')\n",
    "plt.show()"
   ]
  },
  {
   "cell_type": "markdown",
   "metadata": {},
   "source": [
    " - Dado o gráfico acima plotado, é compreensível que a varivável 'não possuir veículo' seja mais apropriada para avaliar o risco de mau = 1."
   ]
  },
  {
   "cell_type": "markdown",
   "metadata": {},
   "source": [
    "#### 5) Salve a base, pois ela será utilizada no final deste módulo."
   ]
  },
  {
   "cell_type": "code",
   "execution_count": 258,
   "metadata": {},
   "outputs": [],
   "source": [
    "# salvando o DF original alterado\n",
    "df.to_csv('base_de_dados.csv')"
   ]
  },
  {
   "cell_type": "code",
   "execution_count": null,
   "metadata": {},
   "outputs": [],
   "source": [
    "# salvando o DF alterado Dummy\n",
    "df.to_csv('base_de_dados_dummy')"
   ]
  }
 ],
 "metadata": {
  "kernelspec": {
   "display_name": "Python 3 (ipykernel)",
   "language": "python",
   "name": "python3"
  },
  "language_info": {
   "codemirror_mode": {
    "name": "ipython",
    "version": 3
   },
   "file_extension": ".py",
   "mimetype": "text/x-python",
   "name": "python",
   "nbconvert_exporter": "python",
   "pygments_lexer": "ipython3",
   "version": "3.11.4"
  }
 },
 "nbformat": 4,
 "nbformat_minor": 4
}
